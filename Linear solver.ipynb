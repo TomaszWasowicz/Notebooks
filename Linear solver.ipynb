{
 "cells": [
  {
   "cell_type": "code",
   "execution_count": null,
   "metadata": {
    "datalore": {
     "hide_input_from_viewers": false,
     "hide_output_from_viewers": false,
     "node_id": "b5J1XJTN2ipeZfszTT1HdY",
     "type": "CODE"
    }
   },
   "outputs": [
    {
     "ename": "",
     "evalue": "",
     "output_type": "error",
     "traceback": [
      "\u001b[1;31mUruchomienie komórek z elementem „c:\\msys64\\mingw64\\bin\\python.exe” wymaga pakietu ipykernel.\n",
      "\u001b[1;31mUruchom następujące polecenie, aby zainstalować element „ipykernel” w środowisku języka Python. \n",
      "\u001b[1;31mPolecenie: „c:/msys64/mingw64/bin/python.exe -m pip install ipykernel -U --user --force-reinstall”"
     ]
    }
   ],
   "source": [
    "#instalacja modułu ortools\n",
    "!pip install ortools"
   ]
  },
  {
   "cell_type": "code",
   "execution_count": null,
   "metadata": {
    "datalore": {
     "hide_input_from_viewers": false,
     "hide_output_from_viewers": false,
     "node_id": "kPsqTzBb1C3s6Dg92SqOl8",
     "type": "CODE"
    }
   },
   "outputs": [
    {
     "ename": "",
     "evalue": "",
     "output_type": "error",
     "traceback": [
      "\u001b[1;31mUruchomienie komórek z elementem „c:\\msys64\\mingw64\\bin\\python.exe” wymaga pakietu ipykernel.\n",
      "\u001b[1;31mUruchom następujące polecenie, aby zainstalować element „ipykernel” w środowisku języka Python. \n",
      "\u001b[1;31mPolecenie: „c:/msys64/mingw64/bin/python.exe -m pip install ipykernel -U --user --force-reinstall”"
     ]
    }
   ],
   "source": [
    "#instalacja pakietu protobuf\n",
    "!pip install protobuf"
   ]
  },
  {
   "cell_type": "code",
   "execution_count": null,
   "metadata": {
    "datalore": {
     "hide_input_from_viewers": false,
     "hide_output_from_viewers": false,
     "node_id": "Q60S6edYExzmqKGPReOs2y",
     "type": "CODE"
    }
   },
   "outputs": [
    {
     "ename": "",
     "evalue": "",
     "output_type": "error",
     "traceback": [
      "\u001b[1;31mUruchomienie komórek z elementem „c:\\msys64\\mingw64\\bin\\python.exe” wymaga pakietu ipykernel.\n",
      "\u001b[1;31mUruchom następujące polecenie, aby zainstalować element „ipykernel” w środowisku języka Python. \n",
      "\u001b[1;31mPolecenie: „c:/msys64/mingw64/bin/python.exe -m pip install ipykernel -U --user --force-reinstall”"
     ]
    }
   ],
   "source": [
    "#update pip\n",
    "!pip install --upgrade pip"
   ]
  },
  {
   "cell_type": "code",
   "execution_count": null,
   "metadata": {
    "datalore": {
     "hide_input_from_viewers": false,
     "hide_output_from_viewers": false,
     "node_id": "cSbpXrkupwWXlMCHuNVjd1",
     "type": "CODE"
    }
   },
   "outputs": [
    {
     "ename": "",
     "evalue": "",
     "output_type": "error",
     "traceback": [
      "\u001b[1;31mUruchomienie komórek z elementem „c:\\msys64\\mingw64\\bin\\python.exe” wymaga pakietu ipykernel.\n",
      "\u001b[1;31mUruchom następujące polecenie, aby zainstalować element „ipykernel” w środowisku języka Python. \n",
      "\u001b[1;31mPolecenie: „c:/msys64/mingw64/bin/python.exe -m pip install ipykernel -U --user --force-reinstall”"
     ]
    }
   ],
   "source": [
    "#ponowna instalacja modułu\n",
    "!pip install ortools"
   ]
  },
  {
   "cell_type": "code",
   "execution_count": null,
   "metadata": {
    "datalore": {
     "hide_input_from_viewers": false,
     "hide_output_from_viewers": false,
     "node_id": "3D1tYyR56sNVSgGqvUnSYH",
     "type": "CODE"
    }
   },
   "outputs": [
    {
     "ename": "",
     "evalue": "",
     "output_type": "error",
     "traceback": [
      "\u001b[1;31mUruchomienie komórek z elementem „c:\\msys64\\mingw64\\bin\\python.exe” wymaga pakietu ipykernel.\n",
      "\u001b[1;31mUruchom następujące polecenie, aby zainstalować element „ipykernel” w środowisku języka Python. \n",
      "\u001b[1;31mPolecenie: „c:/msys64/mingw64/bin/python.exe -m pip install ipykernel -U --user --force-reinstall”"
     ]
    }
   ],
   "source": [
    "#import pywarplp z biblioteki linear_solver\n",
    "from ortools.linear_solver import pywraplp"
   ]
  },
  {
   "cell_type": "code",
   "execution_count": null,
   "metadata": {
    "datalore": {
     "hide_input_from_viewers": false,
     "hide_output_from_viewers": false,
     "node_id": "MO5uIKmuzMCQiA4M8upvGw",
     "type": "CODE"
    }
   },
   "outputs": [
    {
     "ename": "",
     "evalue": "",
     "output_type": "error",
     "traceback": [
      "\u001b[1;31mUruchomienie komórek z elementem „c:\\msys64\\mingw64\\bin\\python.exe” wymaga pakietu ipykernel.\n",
      "\u001b[1;31mUruchom następujące polecenie, aby zainstalować element „ipykernel” w środowisku języka Python. \n",
      "\u001b[1;31mPolecenie: „c:/msys64/mingw64/bin/python.exe -m pip install ipykernel -U --user --force-reinstall”"
     ]
    }
   ],
   "source": [
    "#Stworzenie solvera linearnego z backendem GLOP\n",
    "solver_liniowy = pywraplp.Solver('SolveSimpleSystem',\n",
    "                         pywraplp.Solver.GLOP_LINEAR_PROGRAMMING)"
   ]
  },
  {
   "cell_type": "code",
   "execution_count": null,
   "metadata": {
    "datalore": {
     "hide_input_from_viewers": false,
     "hide_output_from_viewers": false,
     "node_id": "Mw80md0OYDUAaj0os6Mbaj",
     "type": "CODE"
    }
   },
   "outputs": [
    {
     "ename": "",
     "evalue": "",
     "output_type": "error",
     "traceback": [
      "\u001b[1;31mUruchomienie komórek z elementem „c:\\msys64\\mingw64\\bin\\python.exe” wymaga pakietu ipykernel.\n",
      "\u001b[1;31mUruchom następujące polecenie, aby zainstalować element „ipykernel” w środowisku języka Python. \n",
      "\u001b[1;31mPolecenie: „c:/msys64/mingw64/bin/python.exe -m pip install ipykernel -U --user --force-reinstall”"
     ]
    }
   ],
   "source": [
    "#Zmienna 'a'\n",
    "a = solver_liniowy.NumVar(0, solver_liniowy.infinity(), 'a')"
   ]
  },
  {
   "cell_type": "code",
   "execution_count": null,
   "metadata": {
    "datalore": {
     "hide_input_from_viewers": false,
     "hide_output_from_viewers": false,
     "node_id": "cPXz0GmnB157nyzP758rru",
     "type": "CODE"
    }
   },
   "outputs": [
    {
     "ename": "",
     "evalue": "",
     "output_type": "error",
     "traceback": [
      "\u001b[1;31mUruchomienie komórek z elementem „c:\\msys64\\mingw64\\bin\\python.exe” wymaga pakietu ipykernel.\n",
      "\u001b[1;31mUruchom następujące polecenie, aby zainstalować element „ipykernel” w środowisku języka Python. \n",
      "\u001b[1;31mPolecenie: „c:/msys64/mingw64/bin/python.exe -m pip install ipykernel -U --user --force-reinstall”"
     ]
    }
   ],
   "source": [
    "#Zmienna 'b'\n",
    "b = solver_liniowy.NumVar(0, solver_liniowy.infinity(), 'b')"
   ]
  },
  {
   "cell_type": "code",
   "execution_count": null,
   "metadata": {
    "datalore": {
     "hide_input_from_viewers": false,
     "hide_output_from_viewers": false,
     "node_id": "b8TCYt5UXTUXsyMJVpqMWM",
     "type": "CODE"
    }
   },
   "outputs": [
    {
     "ename": "",
     "evalue": "",
     "output_type": "error",
     "traceback": [
      "\u001b[1;31mUruchomienie komórek z elementem „c:\\msys64\\mingw64\\bin\\python.exe” wymaga pakietu ipykernel.\n",
      "\u001b[1;31mUruchom następujące polecenie, aby zainstalować element „ipykernel” w środowisku języka Python. \n",
      "\u001b[1;31mPolecenie: „c:/msys64/mingw64/bin/python.exe -m pip install ipykernel -U --user --force-reinstall”"
     ]
    }
   ],
   "source": [
    "#Zmienna 'c'\n",
    "c = solver_liniowy.NumVar(0, solver_liniowy.infinity(), 'c')"
   ]
  },
  {
   "cell_type": "code",
   "execution_count": null,
   "metadata": {
    "datalore": {
     "hide_input_from_viewers": false,
     "hide_output_from_viewers": false,
     "node_id": "UI6nysykP8haqpyRD1ZguC",
     "type": "CODE"
    }
   },
   "outputs": [
    {
     "ename": "",
     "evalue": "",
     "output_type": "error",
     "traceback": [
      "\u001b[1;31mUruchomienie komórek z elementem „c:\\msys64\\mingw64\\bin\\python.exe” wymaga pakietu ipykernel.\n",
      "\u001b[1;31mUruchom następujące polecenie, aby zainstalować element „ipykernel” w środowisku języka Python. \n",
      "\u001b[1;31mPolecenie: „c:/msys64/mingw64/bin/python.exe -m pip install ipykernel -U --user --force-reinstall”"
     ]
    }
   ],
   "source": [
    "#Ograniczenia pierwszego działania\n",
    "ograniczenie1 = solver_liniowy.Constraint(0, 50)\n",
    "ograniczenie1.SetCoefficient(a, 3)\n",
    "ograniczenie1.SetCoefficient(b, 6)\n",
    "ograniczenie1.SetCoefficient(c, 2)"
   ]
  },
  {
   "cell_type": "code",
   "execution_count": null,
   "metadata": {
    "datalore": {
     "hide_input_from_viewers": false,
     "hide_output_from_viewers": false,
     "node_id": "JEhWem5w96QdaoNxagmC6h",
     "type": "CODE"
    }
   },
   "outputs": [
    {
     "ename": "",
     "evalue": "",
     "output_type": "error",
     "traceback": [
      "\u001b[1;31mUruchomienie komórek z elementem „c:\\msys64\\mingw64\\bin\\python.exe” wymaga pakietu ipykernel.\n",
      "\u001b[1;31mUruchom następujące polecenie, aby zainstalować element „ipykernel” w środowisku języka Python. \n",
      "\u001b[1;31mPolecenie: „c:/msys64/mingw64/bin/python.exe -m pip install ipykernel -U --user --force-reinstall”"
     ]
    }
   ],
   "source": [
    "#Ograniczenia drugiego działania\n",
    "ograniczenie2 = solver_liniowy.Constraint(0, 45)\n",
    "ograniczenie2.SetCoefficient(a, 4)\n",
    "ograniczenie2.SetCoefficient(b, -6)\n",
    "ograniczenie2.SetCoefficient(c, 8)"
   ]
  },
  {
   "cell_type": "code",
   "execution_count": null,
   "metadata": {
    "datalore": {
     "hide_input_from_viewers": false,
     "hide_output_from_viewers": false,
     "node_id": "B0T4tUa0lFF2LBJXJm6Y47",
     "type": "CODE"
    }
   },
   "outputs": [
    {
     "ename": "",
     "evalue": "",
     "output_type": "error",
     "traceback": [
      "\u001b[1;31mUruchomienie komórek z elementem „c:\\msys64\\mingw64\\bin\\python.exe” wymaga pakietu ipykernel.\n",
      "\u001b[1;31mUruchom następujące polecenie, aby zainstalować element „ipykernel” w środowisku języka Python. \n",
      "\u001b[1;31mPolecenie: „c:/msys64/mingw64/bin/python.exe -m pip install ipykernel -U --user --force-reinstall”"
     ]
    }
   ],
   "source": [
    "#Ograniczenia drugiego działania\n",
    "ograniczenie3 = solver_liniowy.Constraint(0, 37)\n",
    "ograniczenie3.SetCoefficient(a, 3)\n",
    "ograniczenie3.SetCoefficient(b, 1)\n",
    "ograniczenie3.SetCoefficient(c, -5)"
   ]
  },
  {
   "cell_type": "code",
   "execution_count": null,
   "metadata": {
    "datalore": {
     "hide_input_from_viewers": false,
     "hide_output_from_viewers": false,
     "node_id": "wQhS7mxzf7Z8q7etV331SS",
     "type": "CODE"
    }
   },
   "outputs": [
    {
     "ename": "",
     "evalue": "",
     "output_type": "error",
     "traceback": [
      "\u001b[1;31mUruchomienie komórek z elementem „c:\\msys64\\mingw64\\bin\\python.exe” wymaga pakietu ipykernel.\n",
      "\u001b[1;31mUruchom następujące polecenie, aby zainstalować element „ipykernel” w środowisku języka Python. \n",
      "\u001b[1;31mPolecenie: „c:/msys64/mingw64/bin/python.exe -m pip install ipykernel -U --user --force-reinstall”"
     ]
    }
   ],
   "source": [
    "#Funkcja celu\n",
    "Funkcja_celu = solver_liniowy.Objective()\n",
    "\n",
    "#Zmienne funkcji celu\n",
    "Funkcja_celu.SetCoefficient(a, 3)\n",
    "Funkcja_celu.SetCoefficient(b, 2)\n",
    "Funkcja_celu.SetCoefficient(c, 2)\n",
    "\n",
    "#Maksymalizacja funkcji celu\n",
    "Funkcja_celu.SetMaximization()"
   ]
  },
  {
   "cell_type": "code",
   "execution_count": null,
   "metadata": {
    "datalore": {
     "hide_input_from_viewers": false,
     "hide_output_from_viewers": false,
     "node_id": "3BePR51guG8xb3YObzSiJv",
     "type": "CODE"
    }
   },
   "outputs": [
    {
     "ename": "",
     "evalue": "",
     "output_type": "error",
     "traceback": [
      "\u001b[1;31mUruchomienie komórek z elementem „c:\\msys64\\mingw64\\bin\\python.exe” wymaga pakietu ipykernel.\n",
      "\u001b[1;31mUruchom następujące polecenie, aby zainstalować element „ipykernel” w środowisku języka Python. \n",
      "\u001b[1;31mPolecenie: „c:/msys64/mingw64/bin/python.exe -m pip install ipykernel -U --user --force-reinstall”"
     ]
    }
   ],
   "source": [
    "#Rozwiazanie solvera\n",
    "rozwiazanie = solver_liniowy.Solve()\n",
    "\n",
    "# Wydrukowania wyników\n",
    "print(\n",
    "    \n",
    "      'Wartość optymalna funkcji:', Funkcja_celu.Value(), '\\n', \n",
    "      'Zoptymalizowana zmienna a wynosi = ', a.solution_value(), '\\n',\n",
    "      'Zoptymalizowana zmienna b wynosi = ', b.solution_value(), '\\n',\n",
    "      'Zoptymalizowana zmienna c wynosi = ', c.solution_value()\n",
    ")"
   ]
  }
 ],
 "metadata": {
  "datalore": {
   "base_environment": "default",
   "computation_mode": "JUPYTER",
   "package_manager": "pip",
   "packages": [],
   "version": 1
  },
  "kernelspec": {
   "display_name": "Python 3.9.10 64-bit",
   "language": "python",
   "name": "python3"
  },
  "language_info": {
   "name": "python",
   "version": "3.9.10 (main, Jan 25 2022, 17:58:23)  [GCC 11.2.0 64 bit (AMD64)]"
  },
  "vscode": {
   "interpreter": {
    "hash": "2a8dfe095fce2b5e88c64a2c3ee084c8e0e0d70b23e7b95b1cfb538be294c5c8"
   }
  }
 },
 "nbformat": 4,
 "nbformat_minor": 4
}
